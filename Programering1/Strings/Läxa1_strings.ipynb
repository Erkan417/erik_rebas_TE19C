{
 "metadata": {
  "language_info": {
   "codemirror_mode": {
    "name": "ipython",
    "version": 3
   },
   "file_extension": ".py",
   "mimetype": "text/x-python",
   "name": "python",
   "nbconvert_exporter": "python",
   "pygments_lexer": "ipython3",
   "version": "3.8.3-final"
  },
  "orig_nbformat": 2,
  "kernelspec": {
   "name": "python3",
   "display_name": "Python 3"
  }
 },
 "nbformat": 4,
 "nbformat_minor": 2,
 "cells": [
  {
   "source": [
    "# Uppgift 1\n",
    "## Skriv ett program som låter användaren mata in sitt namn och pragrammet skriver ut antalet bokstäver i namnet."
   ],
   "cell_type": "markdown",
   "metadata": {}
  },
  {
   "cell_type": "code",
   "execution_count": 2,
   "metadata": {},
   "outputs": [
    {
     "output_type": "stream",
     "name": "stdout",
     "text": [
      "4\n"
     ]
    }
   ],
   "source": [
    "namn = \"Erik\"\n",
    "print(len(namn))"
   ]
  },
  {
   "source": [
    "# Uppgift 2\n",
    "## Skriv ett program som räknar antalet ord i denna mening: \"En bild säger mer än tusen ord, en matematisk formel säger mer än tusen bilder\""
   ],
   "cell_type": "markdown",
   "metadata": {}
  },
  {
   "cell_type": "code",
   "execution_count": 3,
   "metadata": {},
   "outputs": [
    {
     "output_type": "stream",
     "name": "stdout",
     "text": [
      "78\n"
     ]
    }
   ],
   "source": [
    "a = \"En bild säger mer än tusen ord, en matematisk formel säger mer än tusen bilder\"\n",
    "print(len(a))"
   ]
  },
  {
   "source": [
    "# Uppgift 3 \n",
    "## Ett palindrom är en följd av tecken som är densamma när man läser framlänges som baklänges (man räknar inte med skiljetecken och mellanslag). Exempel på palindrom är \"Anna\", \"Ni talar bra latin\" och \"bjkjb\".  \n",
    "## a) Skriv en formel som låter användaren mata in en följd av tecken utan mellanslag och skiljetecken och skriv ut om följden är ett palindrom.\n",
    "## b) Skriv en formel som låter användaren mata in en följd av tecken inklusive mellanslag och skiljetecken och skriv ut om följden är ett palindrom."
   ],
   "cell_type": "markdown",
   "metadata": {}
  },
  {
   "source": [],
   "cell_type": "markdown",
   "metadata": {}
  },
  {
   "cell_type": "code",
   "execution_count": 4,
   "metadata": {},
   "outputs": [
    {
     "output_type": "error",
     "ename": "NameError",
     "evalue": "name 'mitt_ord_baklanges' is not defined",
     "traceback": [
      "\u001b[1;31m---------------------------------------------------------------------------\u001b[0m",
      "\u001b[1;31mNameError\u001b[0m                                 Traceback (most recent call last)",
      "\u001b[1;32m<ipython-input-4-6e4064c583d7>\u001b[0m in \u001b[0;36m<module>\u001b[1;34m\u001b[0m\n\u001b[0;32m      6\u001b[0m         \u001b[0mprint\u001b[0m\u001b[1;33m(\u001b[0m\u001b[1;34m\"Ordet är inte ett pslindrom\"\u001b[0m\u001b[1;33m)\u001b[0m\u001b[1;33m\u001b[0m\u001b[1;33m\u001b[0m\u001b[0m\n\u001b[0;32m      7\u001b[0m \u001b[0mmitt_ord\u001b[0m \u001b[1;33m=\u001b[0m \u001b[0minput\u001b[0m\u001b[1;33m(\u001b[0m\u001b[1;34m\"Skriv ditt ord här: \"\u001b[0m\u001b[1;33m)\u001b[0m\u001b[1;33m\u001b[0m\u001b[1;33m\u001b[0m\u001b[0m\n\u001b[1;32m----> 8\u001b[1;33m \u001b[0mpalindrom\u001b[0m\u001b[1;33m(\u001b[0m\u001b[0mmitt_ord\u001b[0m\u001b[1;33m)\u001b[0m\u001b[1;33m\u001b[0m\u001b[1;33m\u001b[0m\u001b[0m\n\u001b[0m",
      "\u001b[1;32m<ipython-input-4-6e4064c583d7>\u001b[0m in \u001b[0;36mpalindrom\u001b[1;34m(mitt_ord)\u001b[0m\n\u001b[0;32m      1\u001b[0m \u001b[1;32mdef\u001b[0m \u001b[0mpalindrom\u001b[0m\u001b[1;33m(\u001b[0m\u001b[0mmitt_ord\u001b[0m\u001b[1;33m)\u001b[0m\u001b[1;33m:\u001b[0m\u001b[1;33m\u001b[0m\u001b[1;33m\u001b[0m\u001b[0m\n\u001b[1;32m----> 2\u001b[1;33m     \u001b[0mmitt_ord_baklanges\u001b[0m \u001b[1;33m==\u001b[0m \u001b[0mmitt_ord\u001b[0m\u001b[1;33m[\u001b[0m\u001b[1;33m:\u001b[0m\u001b[1;33m:\u001b[0m\u001b[1;33m-\u001b[0m\u001b[1;36m1\u001b[0m\u001b[1;33m]\u001b[0m\u001b[1;33m\u001b[0m\u001b[1;33m\u001b[0m\u001b[0m\n\u001b[0m\u001b[0;32m      3\u001b[0m     \u001b[1;32mif\u001b[0m\u001b[1;33m(\u001b[0m\u001b[0mmitt_ord\u001b[0m \u001b[1;33m==\u001b[0m \u001b[0mmitt_ord_baklanges\u001b[0m\u001b[1;33m)\u001b[0m\u001b[1;33m:\u001b[0m\u001b[1;33m\u001b[0m\u001b[1;33m\u001b[0m\u001b[0m\n\u001b[0;32m      4\u001b[0m         \u001b[0mprint\u001b[0m\u001b[1;33m(\u001b[0m\u001b[1;34m\"Ordet är ett palindrom\"\u001b[0m\u001b[1;33m)\u001b[0m\u001b[1;33m\u001b[0m\u001b[1;33m\u001b[0m\u001b[0m\n\u001b[0;32m      5\u001b[0m     \u001b[1;32melse\u001b[0m\u001b[1;33m:\u001b[0m\u001b[1;33m\u001b[0m\u001b[1;33m\u001b[0m\u001b[0m\n",
      "\u001b[1;31mNameError\u001b[0m: name 'mitt_ord_baklanges' is not defined"
     ]
    }
   ],
   "source": [
    "def palindrom(mitt_ord):\n",
    "    mitt_ord[::-1] == mitt_ord_baklanges\n",
    "    if(mitt_ord == mitt_ord_baklanges):\n",
    "        print(\"Ordet är ett palindrom\")\n",
    "    else:\n",
    "        print(\"Ordet är inte ett pslindrom\")\n",
    "mitt_ord = input(\"Skriv ditt ord här: \")\n",
    "palindrom(mitt_ord)"
   ]
  },
  {
   "cell_type": "code",
   "execution_count": null,
   "metadata": {},
   "outputs": [],
   "source": []
  }
 ]
}