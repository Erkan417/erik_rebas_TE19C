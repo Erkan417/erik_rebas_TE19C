{
 "metadata": {
  "language_info": {
   "codemirror_mode": {
    "name": "ipython",
    "version": 3
   },
   "file_extension": ".py",
   "mimetype": "text/x-python",
   "name": "python",
   "nbconvert_exporter": "python",
   "pygments_lexer": "ipython3",
   "version": "3.8.3-final"
  },
  "orig_nbformat": 2,
  "kernelspec": {
   "name": "python3",
   "display_name": "Python 3.8.3 64-bit (conda)",
   "metadata": {
    "interpreter": {
     "hash": "ae8f85d151bf660e8577c6bce6c11f982cd591a2c8a2762e368d89bc7a0e1f28"
    }
   }
  }
 },
 "nbformat": 4,
 "nbformat_minor": 2,
 "cells": [
  {
   "cell_type": "code",
   "execution_count": 17,
   "metadata": {},
   "outputs": [
    {
     "output_type": "execute_result",
     "data": {
      "text/plain": [
       "            sysselsï¿½ttning     ï¿½lder    kï¿½n    2019\n",
       "0      fï¿½rvï¿½rvsarbetande  16-19 ï¿½r    mï¿½n   58826\n",
       "1      fï¿½rvï¿½rvsarbetande  16-19 ï¿½r  kvinnor   72847\n",
       "2      fï¿½rvï¿½rvsarbetande  20-24 ï¿½r    mï¿½n  192696\n",
       "3      fï¿½rvï¿½rvsarbetande  20-24 ï¿½r  kvinnor  174074\n",
       "4      fï¿½rvï¿½rvsarbetande  25-29 ï¿½r    mï¿½n  293352\n",
       "5      fï¿½rvï¿½rvsarbetande  25-29 ï¿½r  kvinnor  268587\n",
       "6      fï¿½rvï¿½rvsarbetande  30-34 ï¿½r    mï¿½n  303019\n",
       "7      fï¿½rvï¿½rvsarbetande  30-34 ï¿½r  kvinnor  271975\n",
       "8      fï¿½rvï¿½rvsarbetande  35-39 ï¿½r    mï¿½n  280522\n",
       "9      fï¿½rvï¿½rvsarbetande  35-39 ï¿½r  kvinnor  255391\n",
       "10     fï¿½rvï¿½rvsarbetande  40-44 ï¿½r    mï¿½n  275085\n",
       "11     fï¿½rvï¿½rvsarbetande  40-44 ï¿½r  kvinnor  260093\n",
       "12  ej fï¿½rvï¿½rvsarbetande  16-19 ï¿½r    mï¿½n  176860\n",
       "13  ej fï¿½rvï¿½rvsarbetande  16-19 ï¿½r  kvinnor  143432\n",
       "14  ej fï¿½rvï¿½rvsarbetande  20-24 ï¿½r    mï¿½n  117928\n",
       "15  ej fï¿½rvï¿½rvsarbetande  20-24 ï¿½r  kvinnor  103001\n",
       "16  ej fï¿½rvï¿½rvsarbetande  25-29 ï¿½r    mï¿½n   86633\n",
       "17  ej fï¿½rvï¿½rvsarbetande  25-29 ï¿½r  kvinnor   91124\n",
       "18  ej fï¿½rvï¿½rvsarbetande  30-34 ï¿½r    mï¿½n   64162\n",
       "19  ej fï¿½rvï¿½rvsarbetande  30-34 ï¿½r  kvinnor   76735\n",
       "20  ej fï¿½rvï¿½rvsarbetande  35-39 ï¿½r    mï¿½n   53373\n",
       "21  ej fï¿½rvï¿½rvsarbetande  35-39 ï¿½r  kvinnor   61312\n",
       "22  ej fï¿½rvï¿½rvsarbetande  40-44 ï¿½r    mï¿½n   46857\n",
       "23  ej fï¿½rvï¿½rvsarbetande  40-44 ï¿½r  kvinnor   49228"
      ],
      "text/html": "<div>\n<style scoped>\n    .dataframe tbody tr th:only-of-type {\n        vertical-align: middle;\n    }\n\n    .dataframe tbody tr th {\n        vertical-align: top;\n    }\n\n    .dataframe thead th {\n        text-align: right;\n    }\n</style>\n<table border=\"1\" class=\"dataframe\">\n  <thead>\n    <tr style=\"text-align: right;\">\n      <th></th>\n      <th>sysselsï¿½ttning</th>\n      <th>ï¿½lder</th>\n      <th>kï¿½n</th>\n      <th>2019</th>\n    </tr>\n  </thead>\n  <tbody>\n    <tr>\n      <th>0</th>\n      <td>fï¿½rvï¿½rvsarbetande</td>\n      <td>16-19 ï¿½r</td>\n      <td>mï¿½n</td>\n      <td>58826</td>\n    </tr>\n    <tr>\n      <th>1</th>\n      <td>fï¿½rvï¿½rvsarbetande</td>\n      <td>16-19 ï¿½r</td>\n      <td>kvinnor</td>\n      <td>72847</td>\n    </tr>\n    <tr>\n      <th>2</th>\n      <td>fï¿½rvï¿½rvsarbetande</td>\n      <td>20-24 ï¿½r</td>\n      <td>mï¿½n</td>\n      <td>192696</td>\n    </tr>\n    <tr>\n      <th>3</th>\n      <td>fï¿½rvï¿½rvsarbetande</td>\n      <td>20-24 ï¿½r</td>\n      <td>kvinnor</td>\n      <td>174074</td>\n    </tr>\n    <tr>\n      <th>4</th>\n      <td>fï¿½rvï¿½rvsarbetande</td>\n      <td>25-29 ï¿½r</td>\n      <td>mï¿½n</td>\n      <td>293352</td>\n    </tr>\n    <tr>\n      <th>5</th>\n      <td>fï¿½rvï¿½rvsarbetande</td>\n      <td>25-29 ï¿½r</td>\n      <td>kvinnor</td>\n      <td>268587</td>\n    </tr>\n    <tr>\n      <th>6</th>\n      <td>fï¿½rvï¿½rvsarbetande</td>\n      <td>30-34 ï¿½r</td>\n      <td>mï¿½n</td>\n      <td>303019</td>\n    </tr>\n    <tr>\n      <th>7</th>\n      <td>fï¿½rvï¿½rvsarbetande</td>\n      <td>30-34 ï¿½r</td>\n      <td>kvinnor</td>\n      <td>271975</td>\n    </tr>\n    <tr>\n      <th>8</th>\n      <td>fï¿½rvï¿½rvsarbetande</td>\n      <td>35-39 ï¿½r</td>\n      <td>mï¿½n</td>\n      <td>280522</td>\n    </tr>\n    <tr>\n      <th>9</th>\n      <td>fï¿½rvï¿½rvsarbetande</td>\n      <td>35-39 ï¿½r</td>\n      <td>kvinnor</td>\n      <td>255391</td>\n    </tr>\n    <tr>\n      <th>10</th>\n      <td>fï¿½rvï¿½rvsarbetande</td>\n      <td>40-44 ï¿½r</td>\n      <td>mï¿½n</td>\n      <td>275085</td>\n    </tr>\n    <tr>\n      <th>11</th>\n      <td>fï¿½rvï¿½rvsarbetande</td>\n      <td>40-44 ï¿½r</td>\n      <td>kvinnor</td>\n      <td>260093</td>\n    </tr>\n    <tr>\n      <th>12</th>\n      <td>ej fï¿½rvï¿½rvsarbetande</td>\n      <td>16-19 ï¿½r</td>\n      <td>mï¿½n</td>\n      <td>176860</td>\n    </tr>\n    <tr>\n      <th>13</th>\n      <td>ej fï¿½rvï¿½rvsarbetande</td>\n      <td>16-19 ï¿½r</td>\n      <td>kvinnor</td>\n      <td>143432</td>\n    </tr>\n    <tr>\n      <th>14</th>\n      <td>ej fï¿½rvï¿½rvsarbetande</td>\n      <td>20-24 ï¿½r</td>\n      <td>mï¿½n</td>\n      <td>117928</td>\n    </tr>\n    <tr>\n      <th>15</th>\n      <td>ej fï¿½rvï¿½rvsarbetande</td>\n      <td>20-24 ï¿½r</td>\n      <td>kvinnor</td>\n      <td>103001</td>\n    </tr>\n    <tr>\n      <th>16</th>\n      <td>ej fï¿½rvï¿½rvsarbetande</td>\n      <td>25-29 ï¿½r</td>\n      <td>mï¿½n</td>\n      <td>86633</td>\n    </tr>\n    <tr>\n      <th>17</th>\n      <td>ej fï¿½rvï¿½rvsarbetande</td>\n      <td>25-29 ï¿½r</td>\n      <td>kvinnor</td>\n      <td>91124</td>\n    </tr>\n    <tr>\n      <th>18</th>\n      <td>ej fï¿½rvï¿½rvsarbetande</td>\n      <td>30-34 ï¿½r</td>\n      <td>mï¿½n</td>\n      <td>64162</td>\n    </tr>\n    <tr>\n      <th>19</th>\n      <td>ej fï¿½rvï¿½rvsarbetande</td>\n      <td>30-34 ï¿½r</td>\n      <td>kvinnor</td>\n      <td>76735</td>\n    </tr>\n    <tr>\n      <th>20</th>\n      <td>ej fï¿½rvï¿½rvsarbetande</td>\n      <td>35-39 ï¿½r</td>\n      <td>mï¿½n</td>\n      <td>53373</td>\n    </tr>\n    <tr>\n      <th>21</th>\n      <td>ej fï¿½rvï¿½rvsarbetande</td>\n      <td>35-39 ï¿½r</td>\n      <td>kvinnor</td>\n      <td>61312</td>\n    </tr>\n    <tr>\n      <th>22</th>\n      <td>ej fï¿½rvï¿½rvsarbetande</td>\n      <td>40-44 ï¿½r</td>\n      <td>mï¿½n</td>\n      <td>46857</td>\n    </tr>\n    <tr>\n      <th>23</th>\n      <td>ej fï¿½rvï¿½rvsarbetande</td>\n      <td>40-44 ï¿½r</td>\n      <td>kvinnor</td>\n      <td>49228</td>\n    </tr>\n  </tbody>\n</table>\n</div>"
     },
     "metadata": {},
     "execution_count": 17
    }
   ],
   "source": [
    "import pandas as pd\n",
    "df = pd.read_csv(\"sysselsattning.csv\")\n",
    "pd.read_csv(\"sysselsattning.csv\", encoding=\"ISO-8859-1\", header=1)"
   ]
  },
  {
   "cell_type": "code",
   "execution_count": null,
   "metadata": {},
   "outputs": [],
   "source": []
  }
 ]
}