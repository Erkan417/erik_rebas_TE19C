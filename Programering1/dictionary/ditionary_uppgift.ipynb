{
 "metadata": {
  "language_info": {
   "codemirror_mode": {
    "name": "ipython",
    "version": 3
   },
   "file_extension": ".py",
   "mimetype": "text/x-python",
   "name": "python",
   "nbconvert_exporter": "python",
   "pygments_lexer": "ipython3",
   "version": "3.8.3-final"
  },
  "orig_nbformat": 2,
  "kernelspec": {
   "name": "python3",
   "display_name": "Python 3.8.3 64-bit ('erik.rebas': virtualenv)",
   "metadata": {
    "interpreter": {
     "hash": "ae8f85d151bf660e8577c6bce6c11f982cd591a2c8a2762e368d89bc7a0e1f28"
    }
   }
  }
 },
 "nbformat": 4,
 "nbformat_minor": 2,
 "cells": [
  {
   "cell_type": "code",
   "execution_count": 13,
   "metadata": {},
   "outputs": [
    {
     "output_type": "stream",
     "name": "stdout",
     "text": [
      "Den totala poängen är: 800\n"
     ]
    }
   ],
   "source": [
    "kurser = dict(\n",
    "    Matte = 100,\n",
    "    Svenska = 100,\n",
    "    Engelska = 100,\n",
    "    Fysik = 150,\n",
    "    DaoDac = 100,\n",
    "    Idrott = 50,\n",
    "    Webbutveckling = 100,\n",
    "    Programmering = 100,\n",
    ")\n",
    "if key in kurser:\n",
    "        print(\"Den totala poängen är:\", sum(kurser.values()))"
   ]
  },
  {
   "cell_type": "code",
   "execution_count": 15,
   "metadata": {},
   "outputs": [
    {
     "output_type": "error",
     "ename": "SyntaxError",
     "evalue": "invalid syntax (<ipython-input-15-0af563738d97>, line 21)",
     "traceback": [
      "\u001b[1;36m  File \u001b[1;32m\"<ipython-input-15-0af563738d97>\"\u001b[1;36m, line \u001b[1;32m21\u001b[0m\n\u001b[1;33m    femmor += 1:\u001b[0m\n\u001b[1;37m               ^\u001b[0m\n\u001b[1;31mSyntaxError\u001b[0m\u001b[1;31m:\u001b[0m invalid syntax\n"
     ]
    }
   ],
   "source": [
    "import random as rnd\n",
    "Tärningskast = dict(\n",
    "    ettor = 0,\n",
    "    tvåor = 0,\n",
    "    treor = 0,\n",
    "    fyror = 0,\n",
    "    femmor = 0,\n",
    "    sexor = 0,\n",
    ")\n",
    "for key in Tärningskast(100000):\n",
    "    Tärning = rnd.randint(1, 6)\n",
    "    if Tärning == 1:\n",
    "        ettor += 1\n",
    "    elif Tärning == 2:\n",
    "        tvåor += 1\n",
    "    elif Tärning == 3:\n",
    "        treor += 1\n",
    "    elif Tärning == 4:\n",
    "        fyror += 1\n",
    "    elif Tärning == 5:\n",
    "        femmor += 1:\n",
    "    else sexor == 6:\n",
    "        sexor += 1\n",
    "print(dict)"
   ]
  },
  {
   "cell_type": "code",
   "execution_count": null,
   "metadata": {},
   "outputs": [],
   "source": []
  }
 ]
}