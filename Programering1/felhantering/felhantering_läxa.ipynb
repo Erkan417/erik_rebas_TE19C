{
 "metadata": {
  "language_info": {
   "codemirror_mode": {
    "name": "ipython",
    "version": 3
   },
   "file_extension": ".py",
   "mimetype": "text/x-python",
   "name": "python",
   "nbconvert_exporter": "python",
   "pygments_lexer": "ipython3",
   "version": "3.8.3-final"
  },
  "orig_nbformat": 2,
  "kernelspec": {
   "name": "python3",
   "display_name": "Python 3",
   "language": "python"
  }
 },
 "nbformat": 4,
 "nbformat_minor": 2,
 "cells": [
  {
   "cell_type": "code",
   "execution_count": 23,
   "metadata": {},
   "outputs": [
    {
     "output_type": "stream",
     "name": "stdout",
     "text": [
      "1.0\n"
     ]
    }
   ],
   "source": [
    "import numpy as np #type error \n",
    "\n",
    "def distance(x, y):\n",
    "    return np.sqrt(x+y) #type error\n",
    "\n",
    "print(distance(0.5,0.5)) #borttagna klamrar"
   ]
  },
  {
   "cell_type": "code",
   "execution_count": 24,
   "metadata": {},
   "outputs": [
    {
     "output_type": "stream",
     "name": "stdout",
     "text": [
      "100 är inte fyrsiffrigt\n231 är inte fyrsiffrigt\n10000 är inte fyrsiffrigt\n10001 är inte fyrsiffrigt\n-1000 är fyrsiffrigt\n102313 är inte fyrsiffrigt\n3555 är fyrsiffrigt\n"
     ]
    }
   ],
   "source": [
    "def ar_fyrsiffrigt(tal):\n",
    "    if abs(tal//1000) < 10 and abs(tal//1000) > 0 :\n",
    "        return True\n",
    "    else:\n",
    "        return False\n",
    "\n",
    "# testprogram\n",
    "testtal = [100, 231, 10000, 10001, -1000, 102313, 3555]\n",
    "\n",
    "for t in testtal:\n",
    "    if ar_fyrsiffrigt(t):\n",
    "        print(f\"{t} är fyrsiffrigt\")\n",
    "    else:\n",
    "        print(f\"{t} är inte fyrsiffrigt\")"
   ]
  },
  {
   "cell_type": "code",
   "execution_count": 21,
   "metadata": {},
   "outputs": [
    {
     "output_type": "stream",
     "name": "stdout",
     "text": [
      "Ange enbart heltal med siffror\n",
      "Ange enbart heltal med siffror\n",
      "Mer värt att köpa månadskort\n"
     ]
    }
   ],
   "source": [
    "# Fråga hur många gånger kokchun vill åka spårvagn\n",
    "# Gör variabler för månadskort och engångskort\n",
    "\n",
    "while True:\n",
    "    try:       \n",
    "        Antal = int(input(\"Hur många gånga gånger vill du åka spårvagn\"))\n",
    "        assert Antal > 0 and Antal < 120, \"Ange enbart positiva tal\"\n",
    "        break\n",
    "    except ValueError:\n",
    "        print(\"Ange enbart heltal med siffror\")\n",
    "    except AssertionError as msg:\n",
    "        print(msg)\n",
    "engångskort = Antal*23\n",
    "månadskort= 450\n",
    "\n",
    "if engångskort < månadskort:\n",
    "    print(\"Mer värt att köpa engångskort\")\n",
    "\n",
    "else:\n",
    "    print(\"Mer värt att köpa månadskort\")\n"
   ]
  },
  {
   "cell_type": "code",
   "execution_count": null,
   "metadata": {},
   "outputs": [],
   "source": []
  }
 ]
}