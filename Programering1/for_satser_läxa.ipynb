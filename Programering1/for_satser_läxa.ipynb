{
 "metadata": {
  "language_info": {
   "codemirror_mode": {
    "name": "ipython",
    "version": 3
   },
   "file_extension": ".py",
   "mimetype": "text/x-python",
   "name": "python",
   "nbconvert_exporter": "python",
   "pygments_lexer": "ipython3",
   "version": "3.8.3-final"
  },
  "orig_nbformat": 2,
  "kernelspec": {
   "name": "python_defaultSpec_1600861239950",
   "display_name": "Python 3.8.3 64-bit ('base': conda)"
  }
 },
 "nbformat": 4,
 "nbformat_minor": 2,
 "cells": [
  {
   "cell_type": "code",
   "execution_count": 6,
   "metadata": {
    "tags": []
   },
   "outputs": [
    {
     "output_type": "stream",
     "name": "stdout",
     "text": "1 2 3 4 5 6 7 8 9 10 \n\n-10 -9 -8 -7 -6 -5 -4 -3 -2 -1 0 1 2 3 4 5 6 7 8 9 10 \n\n10 9 8 7 6 5 4 3 2 1 0"
    }
   ],
   "source": [
    "#uppgift 1#\n",
    "\n",
    "for i in range(1,11):\n",
    "    print(i, end=\" \")\n",
    "\n",
    "print(\"\\n\")\n",
    "\n",
    "for j in range(-10,11):\n",
    "    print(j, end=\" \")\n",
    "\n",
    "\n",
    "print(\"\\n\")\n",
    "\n",
    "for k in range(10,-1,-1):\n",
    "    print(k, end=\" \")"
   ]
  },
  {
   "cell_type": "code",
   "execution_count": 12,
   "metadata": {
    "tags": []
   },
   "outputs": [
    {
     "output_type": "stream",
     "name": "stdout",
     "text": "1 + 2 + 3 + 4... 99 + 100 = 5050\n"
    }
   ],
   "source": [
    "#Uppgift 3\n",
    "\n",
    "num = 0\n",
    "\n",
    "for i in range(101):\n",
    "    num += i\n",
    "\n",
    "print(f\"1 + 2 + 3 + 4... 99 + 100 = {num}\") "
   ]
  },
  {
   "cell_type": "code",
   "execution_count": 13,
   "metadata": {
    "tags": []
   },
   "outputs": [
    {
     "output_type": "stream",
     "name": "stdout",
     "text": "4950"
    }
   ],
   "source": [
    "#Uppgift 4\n",
    "\n",
    "s = 0\n",
    "for i in range(1,100,2):\n",
    "    s += i\n",
    "print( s, end = \" \")"
   ]
  },
  {
   "cell_type": "code",
   "execution_count": null,
   "metadata": {},
   "outputs": [],
   "source": []
  }
 ]
}