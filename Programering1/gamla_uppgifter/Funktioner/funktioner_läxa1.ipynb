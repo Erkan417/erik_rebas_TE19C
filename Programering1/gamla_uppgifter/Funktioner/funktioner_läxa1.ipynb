{
 "metadata": {
  "language_info": {
   "codemirror_mode": {
    "name": "ipython",
    "version": 3
   },
   "file_extension": ".py",
   "mimetype": "text/x-python",
   "name": "python",
   "nbconvert_exporter": "python",
   "pygments_lexer": "ipython3",
   "version": "3.8.3-final"
  },
  "orig_nbformat": 2,
  "kernelspec": {
   "name": "python3",
   "display_name": "Python 3"
  }
 },
 "nbformat": 4,
 "nbformat_minor": 2,
 "cells": [
  {
   "cell_type": "code",
   "execution_count": 2,
   "metadata": {},
   "outputs": [],
   "source": [
    "def aritmetisk_summa(n, a1, an):\n",
    "    return n*(a1 + an)/2\n",
    "    "
   ]
  },
  {
   "cell_type": "code",
   "execution_count": 5,
   "metadata": {},
   "outputs": [
    {
     "output_type": "stream",
     "name": "stdout",
     "text": [
      "5050.0\n"
     ]
    }
   ],
   "source": [
    "def aritmetisk_summa(n, a1, an):\n",
    "    return n*(a1 + an)/2\n",
    "print(aritmetisk_summa(100, 1, 100))"
   ]
  },
  {
   "cell_type": "code",
   "execution_count": 2,
   "metadata": {},
   "outputs": [
    {
     "output_type": "stream",
     "name": "stdout",
     "text": [
      "5050.0\n"
     ]
    }
   ],
   "source": [
    "n = int(input(\"välj ett tal\"))\n",
    "a1 = int(input(\"välj ett annat tal\"))\n",
    "an = int(input(\"välj ett tredje tal\"))\n",
    "def aritmetisk_summa(n, a1, an):\n",
    "    return n*(a1 + an)/2\n",
    "print(aritmetisk_summa(n, a1, an))"
   ]
  },
  {
   "cell_type": "code",
   "execution_count": 5,
   "metadata": {},
   "outputs": [
    {
     "output_type": "stream",
     "name": "stdout",
     "text": [
      "25\n"
     ]
    }
   ],
   "source": [
    "n = int(input(\"välj ett tal\"))\n",
    "def s(n):\n",
    "    summa = 0\n",
    "    for i in range(1, (2*n + 1),2):\n",
    "        summa += i\n",
    "    return (summa)\n",
    "print(s(n))"
   ]
  },
  {
   "cell_type": "code",
   "execution_count": null,
   "metadata": {},
   "outputs": [],
   "source": [
    "a1 =  int(input(\"välj ett starttal\"))\n",
    "n = int(input(\"välj ett till tal\"))\n",
    "def s(a1, n):\n",
    "    summa = 0\n",
    "    for i in range(a1, (2*n + 1),2):\n",
    "        summa += i\n",
    "    return (summa)\n",
    "print(s(a1, n))"
   ]
  }
 ]
}