{
 "metadata": {
  "language_info": {
   "codemirror_mode": {
    "name": "ipython",
    "version": 3
   },
   "file_extension": ".py",
   "mimetype": "text/x-python",
   "name": "python",
   "nbconvert_exporter": "python",
   "pygments_lexer": "ipython3",
   "version": "3.8.3-final"
  },
  "orig_nbformat": 2,
  "kernelspec": {
   "name": "Python 3.8.3 64-bit ('base': conda)",
   "display_name": "Python 3.8.3 64-bit ('base': conda)",
   "metadata": {
    "interpreter": {
     "hash": "ae8f85d151bf660e8577c6bce6c11f982cd591a2c8a2762e368d89bc7a0e1f28"
    }
   }
  }
 },
 "nbformat": 4,
 "nbformat_minor": 2,
 "cells": [
  {
   "cell_type": "code",
   "execution_count": 1,
   "metadata": {},
   "outputs": [
    {
     "output_type": "stream",
     "name": "stdout",
     "text": [
      "1 2 3 4 5 6 7 8 9 10 11 12 13 14 15 16 17 18 19 20 21 22 23 24 25 26 27 28 29 30 31 32 33 34 35 36 37 38 39 40 41 42 43 44 45 46 47 48 49 50 51 52 53 54 55 56 57 58 59 60 61 62 63 64 65 66 67 68 69 70 71 72 73 74 75 76 77 78 79 80 81 82 83 84 85 86 87 88 89 90 91 92 93 94 95 96 97 98 99 100 "
     ]
    }
   ],
   "source": [
    "for i in range(1,101):\n",
    "    print(i, end=\" \")"
   ]
  },
  {
   "cell_type": "code",
   "execution_count": 9,
   "metadata": {},
   "outputs": [
    {
     "output_type": "stream",
     "name": "stdout",
     "text": [
      "1 2 3 4 burr 6 7 8 9 burr 11 12 13 14 burr 16 17 18 19 burr 21 22 23 24 burr 26 27 28 29 burr 31 32 33 34 burr 36 37 38 39 burr 41 42 43 44 burr 46 47 48 49 burr 51 52 53 54 burr 56 57 58 59 burr 61 62 63 64 burr 66 67 68 69 burr 71 72 73 74 burr 76 77 78 79 burr 81 82 83 84 burr 86 87 88 89 burr 91 92 93 94 burr 96 97 98 99 burr "
     ]
    }
   ],
   "source": [
    "for i in range(1,101):\n",
    "    if i % 5 == 0:\n",
    "        print(\"burr\", end=\" \")\n",
    "    else: \n",
    "        print(i, end=\" \")\n",
    "\n"
   ]
  },
  {
   "cell_type": "code",
   "execution_count": 10,
   "metadata": {},
   "outputs": [
    {
     "output_type": "stream",
     "name": "stdout",
     "text": [
      "1 2 3 4 5 6 7 burr 9 10 11 12 13 14 15 burr 17 18 19 20 21 22 23 burr 25 26 27 28 29 30 31 burr 33 34 35 36 37 38 39 burr 41 42 43 44 45 46 47 burr 49 50 51 52 53 54 55 burr 57 58 59 60 61 62 63 burr 65 66 67 68 69 70 71 burr 73 74 75 76 77 78 79 burr 81 82 83 84 85 86 87 burr 89 90 91 92 93 94 95 burr 97 98 99 100 "
     ]
    }
   ],
   "source": [
    "x = int(input(\"Skriv ditt tal\"))\n",
    "for i in range(1,101):\n",
    "    if i % x == 0:\n",
    "        print(\"burr\", end=\" \")\n",
    "    else: \n",
    "        print(i, end=\" \")"
   ]
  },
  {
   "cell_type": "code",
   "execution_count": 11,
   "metadata": {},
   "outputs": [
    {
     "output_type": "stream",
     "name": "stdout",
     "text": [
      "1 burr birr burr 5 burr 7 burr birr burr 11 burr 13 burr birr burr 17 burr 19 burr birr burr 23 burr 25 burr birr burr 29 burr 31 burr birr burr 35 burr 37 burr birr burr 41 burr 43 burr birr burr 47 burr 49 burr birr burr 53 burr 55 burr birr burr 59 burr 61 burr birr burr 65 burr 67 burr birr burr 71 burr 73 burr birr burr 77 burr 79 burr birr burr 83 burr 85 burr birr burr 89 burr 91 burr birr burr 95 burr 97 burr birr burr "
     ]
    }
   ],
   "source": [
    "x = int(input(\"Skriv ett tal\"))\n",
    "y = int(input(\"Skriv ett andra tal\"))\n",
    "for i in range(1,101):\n",
    "    if i % x == 0:\n",
    "        print(\"burr\", end=\" \")\n",
    "    elif i % y == 0:\n",
    "        print(\"birr\", end=\" \")\n",
    "    else: \n",
    "        print(i, end=\" \")"
   ]
  },
  {
   "cell_type": "code",
   "execution_count": 12,
   "metadata": {},
   "outputs": [
    {
     "output_type": "stream",
     "name": "stdout",
     "text": [
      "burr 11 12 13 14 burr birr 17 18 19 burr 21 22 23 birr burr 26 27 28 29 burr 31 birr 33 34 burr 36 37 38 39 burr 41 42 43 44 burr 46 47 birr 49 burr 51 52 53 54 burr birr 57 58 59 burr 61 62 63 birr burr 66 67 68 69 burr 71 birr 73 74 burr 76 77 78 79 burr 81 82 83 84 burr 86 87 birr 89 burr 91 92 93 94 burr birr 97 98 99 burr 101 102 103 birr burr 106 107 108 109 burr 111 birr 113 114 burr 116 117 118 119 burr 121 122 123 124 burr 126 127 birr 129 burr 131 132 133 134 burr birr 137 138 139 burr 141 142 143 birr burr 146 147 148 149 burr 151 birr 153 154 burr 156 157 158 159 burr 161 162 163 164 burr 166 167 birr 169 burr 171 172 173 174 burr birr 177 178 179 burr 181 182 183 birr burr 186 187 188 189 burr 191 birr 193 194 burr 196 197 198 199 "
     ]
    }
   ],
   "source": [
    "x = int(input(\"Skriv ett tal\"))\n",
    "y = int(input(\"Skriv ett andra tal\"))\n",
    "a = int(input(\"välj var talföljden ska starta\"))\n",
    "b = int(input(\"Välj var talfölden ska sluta\")) \n",
    "for i in range(a,b):\n",
    "    if i % x == 0:\n",
    "        print(\"burr\", end=\" \")\n",
    "    elif i % y == 0:\n",
    "        print(\"birr\", end=\" \")\n",
    "    else: \n",
    "        print(i, end=\" \")"
   ]
  },
  {
   "cell_type": "code",
   "execution_count": null,
   "metadata": {},
   "outputs": [],
   "source": []
  }
 ]
}