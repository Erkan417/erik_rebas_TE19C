{
 "metadata": {
  "language_info": {
   "codemirror_mode": {
    "name": "ipython",
    "version": 3
   },
   "file_extension": ".py",
   "mimetype": "text/x-python",
   "name": "python",
   "nbconvert_exporter": "python",
   "pygments_lexer": "ipython3",
   "version": "3.8.3-final"
  },
  "orig_nbformat": 2,
  "kernelspec": {
   "name": "python3",
   "display_name": "Python 3.8.3 64-bit (conda)",
   "metadata": {
    "interpreter": {
     "hash": "ae8f85d151bf660e8577c6bce6c11f982cd591a2c8a2762e368d89bc7a0e1f28"
    }
   }
  }
 },
 "nbformat": 4,
 "nbformat_minor": 2,
 "cells": [
  {
   "cell_type": "code",
   "execution_count": 5,
   "metadata": {
    "tags": []
   },
   "outputs": [
    {
     "output_type": "stream",
     "name": "stdout",
     "text": "Din tyngdkraft är 667.8N\n"
    }
   ],
   "source": [
    "g = 9.82\n",
    "\n",
    "m = float(input(\"Hur mycket väger du?\"))\n",
    "\n",
    "F = m*g\n",
    "\n",
    "print(f\"Din tyngdkraft är {F:.1f}N\")"
   ]
  },
  {
   "cell_type": "code",
   "execution_count": 7,
   "metadata": {
    "tags": []
   },
   "outputs": [
    {
     "output_type": "stream",
     "name": "stdout",
     "text": "0.56 = 56%\n"
    }
   ],
   "source": [
    "DT = float(input(\"Ange ett decimaltal: \"))\n",
    "\n",
    "P = DT*100\n",
    "\n",
    "print(f\"{DT} = {P:.0f}%\")"
   ]
  },
  {
   "cell_type": "code",
   "execution_count": 8,
   "metadata": {
    "tags": []
   },
   "outputs": [
    {
     "output_type": "stream",
     "name": "stdout",
     "text": "58.0 Kelvin = -215.15 Celsius\n"
    }
   ],
   "source": [
    "K = float(input(\"Ange en temperatur i Kelvin\"))\n",
    "\n",
    "C = K-273.15\n",
    "\n",
    "print(f\"{K} Kelvin = {C:.2f} Celsius\")"
   ]
  },
  {
   "cell_type": "code",
   "execution_count": 9,
   "metadata": {
    "tags": []
   },
   "outputs": [
    {
     "output_type": "stream",
     "name": "stdout",
     "text": "38.0 Celsius = 311.15 Kelvin\n"
    }
   ],
   "source": [
    "C = float(input(\"Ange en temperatur i Celsius\"))\n",
    "\n",
    "K = C+273.15\n",
    "\n",
    "print(f\"{C} Celsius = {K:.2f} Kelvin\")"
   ]
  },
  {
   "cell_type": "code",
   "execution_count": 1,
   "metadata": {
    "tags": []
   },
   "outputs": [
    {
     "output_type": "stream",
     "name": "stdout",
     "text": [
      "Om du betalar engångsbiljett kostar det 600.0kr\nMer värt att köpa engångsbiljett\n"
     ]
    }
   ],
   "source": [
    "A = float(input(\"Hur många gånger åker du buss under en månad?\"))\n",
    "\n",
    "EB = A*30\n",
    "\n",
    "MB = 775\n",
    "\n",
    "print(f\"Om du betalar engångsbiljett kostar det {EB}kr\")\n",
    "\n",
    "if EB > MB:\n",
    "    print(f\"Mer värt att köpa månadskort\")\n",
    "\n",
    "if MB > EB:\n",
    "    print(f\"Mer värt att köpa engångsbiljett\")"
   ]
  },
  {
   "cell_type": "code",
   "execution_count": null,
   "metadata": {},
   "outputs": [],
   "source": []
  }
 ]
}