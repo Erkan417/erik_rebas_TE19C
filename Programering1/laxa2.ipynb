{
 "metadata": {
  "language_info": {
   "codemirror_mode": {
    "name": "ipython",
    "version": 3
   },
   "file_extension": ".py",
   "mimetype": "text/x-python",
   "name": "python",
   "nbconvert_exporter": "python",
   "pygments_lexer": "ipython3",
   "version": "3.8.3-final"
  },
  "orig_nbformat": 2,
  "kernelspec": {
   "name": "python_defaultSpec_1600255683855",
   "display_name": "Python 3.8.3 64-bit ('base': conda)"
  }
 },
 "nbformat": 4,
 "nbformat_minor": 2,
 "cells": [
  {
   "cell_type": "code",
   "execution_count": 19,
   "metadata": {
    "tags": []
   },
   "outputs": [
    {
     "output_type": "error",
     "ename": "SyntaxError",
     "evalue": "invalid syntax (<ipython-input-19-0c21fd489275>, line 3)",
     "traceback": [
      "\u001b[1;36m  File \u001b[1;32m\"<ipython-input-19-0c21fd489275>\"\u001b[1;36m, line \u001b[1;32m3\u001b[0m\n\u001b[1;33m    if a > 0 and < 90:\u001b[0m\n\u001b[1;37m                 ^\u001b[0m\n\u001b[1;31mSyntaxError\u001b[0m\u001b[1;31m:\u001b[0m invalid syntax\n"
     ]
    }
   ],
   "source": [
    "a = float(input(\"hur många grader\") )\n",
    "\n",
    "if a < 0:\n",
    "    print(\"ej definierat\")\n",
    "\n",
    "if a > 0 and < 90: \n",
    "    print(\"spetsig vinkel\")\n",
    "\n",
    "if a == 90:\n",
    "    print(\"rät vinkel\")\n",
    "\n",
    "if a > 90 and a < 180:\n",
    "    print(\"trubbig vinkel\")\n",
    "\n",
    "if a == 180:\n",
    "    print(\"rak vinkel\")\n",
    "\n",
    "if a > 180 and < 360:\n",
    "    print(\"konvex vinkel\")\n",
    "\n",
    "if a == 360:\n",
    "    print(\"hel vinkel\")\n"
   ]
  },
  {
   "cell_type": "code",
   "execution_count": null,
   "metadata": {},
   "outputs": [],
   "source": []
  }
 ]
}